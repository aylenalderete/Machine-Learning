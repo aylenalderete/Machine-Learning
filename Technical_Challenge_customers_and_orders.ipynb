{
  "cells": [
    {
      "cell_type": "markdown",
      "metadata": {
        "id": "view-in-github",
        "colab_type": "text"
      },
      "source": [
        "<a href=\"https://colab.research.google.com/github/aylenalderete/Machine-Learning-Carrera/blob/main/Technical_Challenge_customers_and_orders.ipynb\" target=\"_parent\"><img src=\"https://colab.research.google.com/assets/colab-badge.svg\" alt=\"Open In Colab\"/></a>"
      ]
    },
    {
      "cell_type": "markdown",
      "metadata": {
        "id": "piiX_CRNFYUi"
      },
      "source": [
        "# Technical Challenge ! Custiomers and Orders - The lifeblood of any business!\n",
        "\n",
        "This notebook depends on two data files: customers.scv and orders.csv. These files are hosted in the cloud (or Github), so for simplicity, we are providing you with the code to download and save the two files in a folder called 'sample_data' which lives within this notebook session (not on your local computer nor Google Drive).\n",
        "\n",
        "![sample_data folder in notebook session](https://raw.githubusercontent.com/anyoneai/notebooks/main/customers_and_orders/images/sample_data_folder.png)\n",
        "\n",
        "Please execute the first code snippet before moving to the rest of the exercise as this code will import the data from the files for you to be able to execute the rest of the exercise.\n",
        "\n",
        "Remember as we said in the previous lecture, you have to save this notebook into your Google Drive by going to menu File/Save a Copy In Drive, or clicking in the button \"Copy to Drive\". This way, you will not lose any work you've done and the file will persist with your latest changes in your Google Drive. Also we recommend you to rename your .ipynb in your Google Drive, so you can easily find it in the future."
      ]
    },
    {
      "cell_type": "code",
      "execution_count": null,
      "metadata": {
        "colab": {
          "base_uri": "https://localhost:8080/"
        },
        "id": "MWpVO242FQHC",
        "outputId": "33618b1b-f311-46d0-d69d-eb454fbf2135"
      },
      "outputs": [
        {
          "output_type": "stream",
          "name": "stdout",
          "text": [
            "Customers and orders CSV files have been added './sample_data'\n"
          ]
        }
      ],
      "source": [
        "import requests\n",
        "\n",
        "def import_data_files():\n",
        "  r = requests.get('https://raw.githubusercontent.com/anyoneai/notebooks/main/customers_and_orders/data/customers.csv')\n",
        "  with open('./sample_data/customers.csv', 'wb') as f:\n",
        "    f.write(r.content)\n",
        "\n",
        "  r = requests.get('https://raw.githubusercontent.com/anyoneai/notebooks/main/customers_and_orders/data/orders.csv')\n",
        "  with open('./sample_data/orders.csv', 'wb') as f:\n",
        "    f.write(r.content)\n",
        "  \n",
        "import_data_files()\n",
        "print(\"Customers and orders CSV files have been added './sample_data'\")"
      ]
    },
    {
      "cell_type": "markdown",
      "metadata": {
        "id": "JQAduY-RWKyB"
      },
      "source": [
        "# Exercise 1: Processing Customers data (difficulty medium)\n",
        "\n",
        "The sample customer data in 'customers.csv' file has just 5 columns: CustomerId, First Name, Last Name, City and State\n",
        "\n",
        "![Data sample](https://raw.githubusercontent.com/anyoneai/notebooks/main/customers_and_orders/images/customers.png)\n",
        "\n",
        "We strongly recommend that you complete from the [Prep Course: Intro to Python](https://colab.research.google.com/github/anyoneai/notebooks/blob/main/python3_crash_course.ipynb) the following section:\n",
        "- Section 7: File I/O (to understand how to read CSV file) \n",
        "- Section 6: For Loop (to navigate the contents of the CSV file)\n",
        "- Section 5: Tuples, Lists, and Dictionaries (to manipulate the data of the CSV file)\n",
        "\n",
        "With this, we hope you can complete this exercise successfully. Although if you want to solve this with libraries or any other way, you are welcome to do it your way.\n",
        "\n",
        "*Hint:* We advise you to take a look at the data before you start.\n",
        "**if you want to manually take a look at the data before you start, please see the content of the data [here](https://github.com/anyoneai/notebooks/blob/main/customers_and_orders/data/customers.csv).\n",
        "\n",
        "*Hint*: There are many ways to do this exercise you can do your own, although here's some help. You can solve this exercise reading and parsing CSV files, structuring data into dictionaries, and using for loops to navigate the contents\n",
        "\n",
        "*Hint*: Also, keep in mind that data might not be clean and you might have to figure out how to deal with that data from the code, without having to modify the data source.\n",
        "\n",
        "Below are the 5 questions you'll have to answer to pass the evaluation:"
      ]
    },
    {
      "cell_type": "markdown",
      "metadata": {
        "id": "kJq7S8sBfbOW"
      },
      "source": [
        "**Question 1:** How many customers are in the file?\n",
        "(as help, we have added some comments and starter code to help you structure the solution)"
      ]
    },
    {
      "cell_type": "code",
      "execution_count": null,
      "metadata": {
        "colab": {
          "base_uri": "https://localhost:8080/"
        },
        "id": "oMnUFBFb2RUb",
        "outputId": "463fe883-3d22-43a2-c23d-5ce9c819132f"
      },
      "outputs": [
        {
          "output_type": "stream",
          "name": "stdout",
          "text": [
            "There are 603 customers\n",
            "All done!\n"
          ]
        }
      ],
      "source": [
        "from os.path import exists\n",
        "import csv\n",
        "\n",
        "# check if file can be found and open the file\n",
        "datafile = \"./sample_data/customers.csv\"\n",
        "if not exists(datafile):\n",
        "  raise SystemExit(\"You should run the first code cell and download the dataset files!\")\n",
        "\n",
        "# customers file is in the sample_data folder and can be opened.\n",
        "# Using csv reader is one way of dealing with the file \n",
        "# but it's up to you how you want to proceed\n",
        "with open(datafile, 'r') as fl:\n",
        "  csvreader = csv.reader(fl, delimiter=',')\n",
        "\n",
        "  # loop through the rows and count etc. THE REST IS UP TO YOU!\n",
        "  customers_size = 0\n",
        "  for customer in csvreader:\n",
        "    if customer[0]:\n",
        "      customers_size += 1\n",
        "  print(\"There are \" + str(customers_size) + \" customers\")\n",
        "\n",
        "print(\"All done!\")"
      ]
    },
    {
      "cell_type": "markdown",
      "source": [
        "**Answer 1: There are 603 customers.**"
      ],
      "metadata": {
        "id": "MgJ6WpYQ18d1"
      }
    },
    {
      "cell_type": "markdown",
      "metadata": {
        "id": "uffBnNgz_570"
      },
      "source": [
        "**Question 2:** In how many different states do the customers live in?"
      ]
    },
    {
      "cell_type": "code",
      "execution_count": null,
      "metadata": {
        "id": "Bi_yid0sMe3-",
        "colab": {
          "base_uri": "https://localhost:8080/"
        },
        "outputId": "b30eea58-013a-4de1-eae1-0ec07264cfb9"
      },
      "outputs": [
        {
          "output_type": "stream",
          "name": "stdout",
          "text": [
            "Customers live in 14 different states\n"
          ]
        }
      ],
      "source": [
        "# open file and init vars\n",
        "# evaluate the contents of the file\n",
        "datafile = \"./sample_data/customers.csv\"\n",
        "if not exists(datafile):\n",
        "  raise SystemExit(\"You should run the first code cell and download the dataset files!\")\n",
        "\n",
        "with open(datafile, 'r') as fl:\n",
        "  csvreader = csv.reader(fl, delimiter=',')\n",
        "\n",
        "  states = []\n",
        "  for state in csvreader:\n",
        "    if state[4].upper().replace(\" \", \"\") not in states and state[4] != 'State':\n",
        "      states.append(state[4])\n",
        "\n",
        "  print(\"Customers live in \" + str(len(states)) + \" different states\")"
      ]
    },
    {
      "cell_type": "markdown",
      "source": [
        "**Answer 2: customers live in 14 different states**"
      ],
      "metadata": {
        "id": "CQ2Xjlzy7kYE"
      }
    },
    {
      "cell_type": "markdown",
      "metadata": {
        "id": "DC59SZYiMfNY"
      },
      "source": [
        "**Question 3** What is the state with most customers?"
      ]
    },
    {
      "cell_type": "code",
      "execution_count": null,
      "metadata": {
        "id": "tfGU3w-OMhA9",
        "colab": {
          "base_uri": "https://localhost:8080/"
        },
        "outputId": "e4341e99-cde5-479b-f8d4-fc7f9bd6de8a"
      },
      "outputs": [
        {
          "output_type": "stream",
          "name": "stdout",
          "text": [
            "['CA'] with 569 is the state with most customers\n"
          ]
        }
      ],
      "source": [
        "# open file and init vars\n",
        "# evaluate the contents of the file\n",
        "datafile = \"./sample_data/customers.csv\"\n",
        "if not exists(datafile):\n",
        "  raise SystemExit(\"You should run the first code cell and download the dataset files!\")\n",
        "\n",
        "with open(datafile, 'r') as fl:\n",
        "  csvreader = csv.reader(fl, delimiter=',')\n",
        "  \n",
        "  states = {}\n",
        "\n",
        "  for state in csvreader:\n",
        "    state_clean = state[4].upper().replace(\" \", \"\")\n",
        "    if state_clean not in states and state_clean != 'STATE':\n",
        "      states[state_clean] = 1\n",
        "    elif state_clean in states:\n",
        "      states[state_clean] += 1\n",
        "\n",
        "  max_value = max(states.values())\n",
        "  max_keys = [k for k, v in states.items() if v == max_value]\n",
        "\n",
        "  print(\"{} with {} is the state with most customers\".format(max_keys, max_value))"
      ]
    },
    {
      "cell_type": "markdown",
      "source": [
        "**Answer 3: CA is the state with most customers.**"
      ],
      "metadata": {
        "id": "nVpHvCv5PFyy"
      }
    },
    {
      "cell_type": "markdown",
      "metadata": {
        "id": "7mcM6cUAMhLB"
      },
      "source": [
        "**Question 4** What is the state with the least customers?"
      ]
    },
    {
      "cell_type": "code",
      "execution_count": null,
      "metadata": {
        "id": "8T0Ka2RqMi3P",
        "colab": {
          "base_uri": "https://localhost:8080/"
        },
        "outputId": "903191b0-3807-482e-ba02-a6422db6435e"
      },
      "outputs": [
        {
          "output_type": "stream",
          "name": "stdout",
          "text": [
            "These are the states: {'CA': 569, 'AZ': 6, 'NV': 8, 'FL': 3, 'WA': 1, 'NH': 1, 'ID': 1, 'CO': 3, 'TX': 2, 'NM': 3, 'OR': 1, 'UT': 2, 'MA': 1, 'IN': 1}\n",
            "ANSWER: ['WA', 'NH', 'ID', 'OR', 'MA', 'IN'] with the value of 1 are the states with least customers\n"
          ]
        }
      ],
      "source": [
        "# open file and init vars\n",
        "# evaluate the contents of the file\n",
        "datafile = \"./sample_data/customers.csv\"\n",
        "if not exists(datafile):\n",
        "  raise SystemExit(\"You should run the first code cell and download the dataset files!\")\n",
        "\n",
        "with open(datafile, 'r') as fl:\n",
        "  csvreader = csv.reader(fl, delimiter=',')\n",
        "  \n",
        "  states = {}\n",
        "\n",
        "  for state in csvreader:\n",
        "    state_clean = state[4].upper().replace(\" \", \"\")\n",
        "    if state_clean not in states and state_clean != 'STATE':\n",
        "      states[state_clean] = 1\n",
        "    elif state_clean in states:\n",
        "      states[state_clean] += 1\n",
        "  \n",
        "  min_value = min(states.values())\n",
        "  min_keys = [k for k, v in states.items() if v == min_value]\n",
        "\n",
        "  print(\"These are the states: \" + str(states))\n",
        "  print(\"ANSWER: {} with the value of {} are the states with least customers\".format(min_keys, min_value))"
      ]
    },
    {
      "cell_type": "markdown",
      "source": [
        "Answer 4: 'WA', 'NH', 'ID', 'OR', 'MA', 'IN' are the states with least customers"
      ],
      "metadata": {
        "id": "b5H7YqjCTrH3"
      }
    },
    {
      "cell_type": "markdown",
      "metadata": {
        "id": "h6fIy7hXHF6A"
      },
      "source": [
        "**Question 5:** What is the most common last name?"
      ]
    },
    {
      "cell_type": "code",
      "execution_count": null,
      "metadata": {
        "id": "k8M1DmA75Km7",
        "colab": {
          "base_uri": "https://localhost:8080/"
        },
        "outputId": "c85f4d35-6c00-473d-9c77-427b80337c56"
      },
      "outputs": [
        {
          "output_type": "stream",
          "name": "stdout",
          "text": [
            "These are the names: {'PIEDRAHITA': 1, 'ABRAHAM': 2, 'JAUREGUI': 2, 'MOTA-SANCHEZ': 2, 'MCCRORIE': 1, 'RAVELO': 1, 'KLINK': 1, 'SMITH': 8, 'TAN': 1, 'HUYNH': 4, 'GILARTELLI': 3, 'PERSKY': 1, 'MCCARLEY': 2, 'GANTOUS': 2, 'WOLLMAN': 3, 'TUELL': 2, 'COSIO': 1, 'SOMOSOT': 1, 'QUIJADA': 2, 'MARIN': 3, 'PARK': 1, 'LIGHTFOOT': 1, 'MCMURRAY': 3, 'KIRSCHNER': 1, 'ZHANG': 3, 'STINSON': 2, 'GALVAN': 1, 'MEGERDICHIAN': 2, 'ROCHA': 4, 'MUSLEH': 2, 'SLOAN': 2, 'ZAPATA': 1, 'ROELANTS': 1, 'VOJNAR': 1, 'CHO': 2, 'HAROLD': 1, 'REYES': 4, 'THOMPSON': 2, 'SCATESJOHNSON': 2, 'MORRIS': 1, 'CAMPOS': 1, 'HARRIS': 3, 'TZARAX': 1, 'COHN': 1, 'MARTINEZ': 2, 'SULLIVAN': 1, 'CARREON': 1, 'MCMAHON': 4, 'MONTES': 2, 'MOPSIKOFF': 1, 'TUDELA': 1, 'GARCIA': 4, 'COFFEY': 2, 'KIM': 1, 'GONZALEZ': 4, 'JOHNSON': 4, 'BANIK': 2, 'VALEN': 1, 'HATHEWAY': 1, 'NEWHOUSE': 1, 'PADILLA': 1, 'SPILLMAN': 1, 'HILLARD': 1, 'BROVKO': 1, 'GOMEZ': 5, 'ROBERTSON': 2, 'HODGSON': 1, 'AMBULO': 2, 'SHRESTHA': 2, 'WELSH': 1, 'OJEDA': 1, 'HALVERSON': 3, 'PEREZ': 4, 'HESTER': 1, 'GRESSITT': 1, 'WARREN': 1, 'JANNETTE': 3, 'HERNANDEZ': 1, 'COURTIS': 2, 'IRWIN': 2, 'DAVIDSON-DILLON': 1, 'TAVARES': 2, 'GONZALES': 2, 'FREEMAN': 2, 'WICKER': 1, 'KULKA': 1, 'MERCADO': 2, 'SPIZER': 2, 'COOMB': 2, 'JACKSON': 3, 'UDOMA': 1, 'YI': 1, 'GUZMAN': 3, 'CHANG': 3, 'HADLEY': 3, 'DEMOTTE': 1, 'ZAMBRANA': 5, 'MACIAS': 2, 'PILLARELLA': 1, 'SOTO': 4, 'YOUNT': 2, 'LANZI': 2, 'CHIN': 1, 'WILLIAMS': 2, 'ZAM': 2, 'SCHNEIDER': 1, 'FERGUSON': 1, 'VILLELA': 1, 'MUNOZ': 2, 'SHAO': 1, 'PANTE': 1, 'TYCHOLIS': 2, 'HIGHSHOE': 1, 'MOLINA': 1, 'OZEKICI': 1, 'ARROYO': 2, 'ESPINOZA': 1, 'AZIZI': 1, 'CHOI': 1, 'RIOS': 1, 'VONG': 1, 'ASCOLESE': 1, 'TREVARE': 2, 'SCHAFFNER': 1, 'MCDERMOTT': 3, 'NURE': 2, 'PICON': 1, 'HAMILTON': 1, 'MUKORA': 1, 'KHACHADOORIAN': 1, 'PIMENTEL': 1, 'ARGUELLES': 1, 'KRESSH': 1, 'MILLER': 3, 'HALL': 1, 'GUNTHER': 1, 'HEREDIA': 1, 'HUARD': 1, 'KEY': 1, 'MAKNOUNI': 1, 'DRAGT': 1, 'SEVILLE-DOUGLAS': 1, 'CISNEROS': 1, 'GALINDO': 2, 'RIVERAMARMOL': 1, 'OLSON': 1, 'DIVAS': 1, 'CANIZALES': 3, 'LEE': 1, 'DEGUIA': 1, 'WELTSCH': 2, 'RANDALL': 1, 'HARBOR': 1, 'STANDING': 1, 'SANDERFORD': 1, 'HISAOKA': 2, 'ORONA': 1, 'RODRIGUEZLEMOS': 1, 'JONES': 2, 'MUMFORD': 4, 'HENDRIX': 1, 'ZAMORA': 1, 'RAY': 1, 'WILDEY': 2, 'YAN': 1, 'MCLEAN': 1, 'SANCHEZ': 1, 'TAFOLLA': 2, 'ROJAS': 1, 'SAINBAATAR': 1, 'DEPLAND': 1, 'RODRIGUEZ': 3, 'OROZCO': 1, 'NIMAGA': 1, 'FABBRO': 1, 'ATKISSON': 1, 'VRBKA': 1, 'PULIDO': 2, 'VEGA': 2, 'KOVELMAN': 1, 'PUNO': 1, 'SOLIZ': 2, 'BAGALE': 1, 'SARRAUTE': 1, 'TREJO': 1, 'LOPEZ': 2, 'HARRISON': 1, 'PARKINSON': 1, 'HOONG': 1, 'FRANCO': 2, 'GAYTAN': 1, 'LONDIOL': 1, 'VARGAS': 1, 'MORTELLARO': 2, 'MAYE': 1, 'BRES': 1, 'BRUMMER': 1, 'ORTEGA': 3, 'MATHEWSON': 1, 'MYHRE': 1, 'REYNA': 2, 'QUINTANA': 2, 'DIAZ': 2, 'GARMON': 2, 'VELIS': 1, 'GECHTMAN': 1, 'OH': 2, 'MATHER': 1, 'TABAK': 2, 'EDISON': 1, 'GATZA': 1, 'GUERRA': 4, 'PREVICH': 3, 'DOGGETT': 5, 'GIFFIN': 1, 'LOZANO': 1, 'MENDES': 1, 'FINAN': 2, 'RUIZ': 3, 'TAKARADA': 3, 'TREVINO': 1, 'NICHOLLS': 1, 'RILEY': 1, 'MCNELLIS': 1, 'MUELLER': 1, 'CARVALHO': 1, 'STEVENSON': 1, 'SILVA': 2, 'HORDYK': 1, 'KEMBLE': 1, 'MONTELLANOLUNA': 4, 'MOSOMBITE': 1, 'AZIMI': 1, 'JUAREZ': 1, 'WRIGHT': 1, 'RESNICK': 2, 'HARBISON-MICHEL': 1, 'DRAME': 1, 'GYERMAN': 1, 'GEORGE': 1, 'MONTALVO': 1, 'SANDS': 1, 'GIGLIOTTI': 1, 'BERNABE': 1, 'SCOTT': 2, 'BEGLEY': 2, 'ROCKWELL': 1, 'MONTGOMERY': 1, 'MINNICK': 2, 'HTWE': 1, 'ZILLIOX': 1, 'CIOTTIPARTON': 1, 'SAMPSON': 1, 'CERVANTES': 1, 'SHALLER': 1, 'DIAZGOMEZ': 1, 'RAMIREZ': 3, 'NAZARETYAN': 1, 'LABONTE': 3, 'DOMINGUEZ': 1, 'OQUINN': 1, 'TINDAN': 1, 'GARABET': 1, 'BRADY': 3, 'MUNANA': 2, 'OSORIO': 1, 'GAMINO': 1, 'WESTFALL': 1, 'QUINTERO': 1, 'HSU': 1, 'RINGGOLD': 1, 'SAGGESE': 2, 'HANLEY': 1, 'SAMILIN': 1, 'ABRAMS': 1, 'VITAL': 1, 'COFFIN': 1, 'WOMACK': 1, 'VORACHARD': 1, 'ABUEL': 1, 'XU': 1, 'NEWSOME': 1, 'ALLEN': 2, 'BELLOSO': 1, 'HASLACKER': 1, 'SIERRA': 1, 'ANGELO': 1, 'ABRISHAMCHIAN': 1, 'SHAUGHNESSY': 1, 'XIAO': 1, 'BARRETTO': 1, 'SIMPSON': 2, 'VANDAM': 1, 'SHIELDS': 1, 'MEDINA': 1, 'NAVARRO': 1, 'CRUZ-BONDE': 1, 'ALVARADO': 2, 'BERINA': 1, 'VANDYKE': 1, 'BURNS': 1, 'BRISENO': 1, 'LAY': 1, 'MACHTOLFF': 1, 'RESENDEZ': 1, 'ZIMBER': 2, 'HANDY': 1, 'COROSU': 1, 'WEISMAN': 1, 'ORTIZ': 3, 'PLUNIER': 1, 'FELIX': 1, 'HAGHIRI': 1, 'POWELL': 1, 'REDBURN': 1, 'ROTHSTRONG': 1, 'NOORSHER': 1, 'EMELIANOV': 1, 'SABO': 1, 'KOYABU': 1, 'QURESHI': 2, 'KARTOUNIAN': 1, 'HUNTER': 1, 'SUTTON': 1, 'AMATOMAYES': 1, 'HERRON': 1, 'MATSUMOTO': 2, 'ISHIMARU': 2, 'SANDOVAL': 1, 'CASTRINOS': 2, 'LUU': 1, 'AUGUSTINE': 2, 'YOUNG': 1, 'KARTALIAN': 1, 'CHURCH': 1, 'ESTRADA': 2, 'MARTSOLF': 2, 'MARKEL': 1, 'HYATT': 1, 'TORRES': 1, 'STRASER': 1, 'PAPPENSCHELLER': 1, 'MARQUEZ': 1, 'GHOLSTON': 1, 'FERRARO': 1, 'CASEY': 1, 'MADLAMBAYAN': 1, 'KNIBB': 1, 'DUNNE': 1, 'MORALES': 1, 'VALENZUELA': 1, 'OCHIAI': 1, 'BARAJAS': 1, 'HORAN': 1, 'HAN': 1, 'PELLETIER': 1, 'AGHAKHANI': 1, 'SARTORIO': 1, 'LOOSE': 1, 'UZUN': 1, 'GOLDFARB': 1, 'JONKE': 1, 'ANDERSON': 1, 'HONG': 1, 'BUDA': 1, 'JOHN': 1, 'WOLIN': 1, 'NAJAD': 1, 'YATES': 1, 'RIVERA': 1, 'ARIAS': 1, 'OCONNOR': 1, 'VALADEZ': 1, 'MARSHALL': 1, 'PACIENTE': 1, 'WOODWARD': 1, 'WEMBES': 1, 'VAZQUEZ': 1, 'CARRIER': 1, 'STELYN': 1, 'GABBAYAN': 1, 'LAINFIESTA': 1, 'MCMAINS': 1, 'JIA': 1, 'LEON': 1, 'SEOK': 1, 'ROBERTS': 1, 'LEMAISTRE': 1, 'KENNEDY': 1, 'CONNELL': 1, 'BALCARCEL': 1, 'GREESON': 1, 'PUGLISI': 1, 'YOUSSEF': 1, 'RUDI': 1, 'SPENCER': 1, 'CORCORAN': 1, 'YAMADA': 1, 'KIRILENKO': 1, 'MUGGY': 1, 'VALDEZ': 1, 'MERLE': 1, 'BOUCHAT': 1, 'JIMENEZ': 1, 'HAYDEN': 1, 'SCHOENFELD': 1, 'HERRERA': 1, 'CASTILLO': 1, 'FILLMORE': 1, 'SCHORR': 1, 'VERDUZCO': 1, 'ZAMUDIO': 1, 'BABBITT': 1, 'MUNIZ': 1, 'STEPHENS': 1, 'BOROUGH': 1, 'FERRER': 1, 'CRUZ': 1, 'MONTECLARO': 1, 'HALLREIF': 1, 'MIALOTOJR.': 1, 'HUGHES': 1, 'OKONMA': 1}\n",
            "ANSWER: ['SMITH'] with the value of 8 is the most common last name\n"
          ]
        }
      ],
      "source": [
        "# open file and init vars\n",
        "# evaluate the contents of the file\n",
        "datafile = \"./sample_data/customers.csv\"\n",
        "if not exists(datafile):\n",
        "  raise SystemExit(\"You should run the first code cell and download the dataset files!\")\n",
        "\n",
        "with open(datafile, 'r') as fl:\n",
        "  csvreader = csv.reader(fl, delimiter=',')\n",
        "\n",
        "  names = {}\n",
        "\n",
        "  for name in csvreader:\n",
        "    name_clean = name[2].upper().replace(\" \", \"\")\n",
        "    if name_clean not in names and name_clean != 'LASTNAME':\n",
        "      names[name_clean] = 1\n",
        "    elif name_clean in names:\n",
        "      names[name_clean] += 1\n",
        "\n",
        "  max_value = max(names.values())\n",
        "  max_keys = [k for k, v in names.items() if v == max_value]\n",
        "  print(\"These are the names: \" + str(names))\n",
        "  print(\"ANSWER: {} with the value of {} is the most common last name\".format(max_keys, max_value))"
      ]
    },
    {
      "cell_type": "markdown",
      "source": [
        "Answer 5: 'SMITH' with the value of 8 is the most common last name"
      ],
      "metadata": {
        "id": "pCmwM7qzXuCt"
      }
    },
    {
      "cell_type": "markdown",
      "metadata": {
        "id": "YPRma1t9NoFk"
      },
      "source": [
        "# Exercise 2: Processing Orders data (difficulty high)\n",
        "\n",
        "The second sample files contains orders placed by customers from the first file. Be careful, this file has many rows and you most likely should not print the contents of the whole file. \n",
        "\n",
        "The file contains the following columns: CustomerID, OrderID, Date, OrderTotal, ProductName, Price\n",
        "\n",
        "![Data sample](https://raw.githubusercontent.com/anyoneai/notebooks/main/customers_and_orders/images/orders.png)\n",
        "\n",
        "*Hint:* We advise you to take a look at the data before you start.\n",
        "**if you want to manually take a look at the data before you start, please see the content of the data [here](https://raw.githubusercontent.com/anyoneai/notebooks/main/customers_and_orders/data/orders.csv).\n",
        "\n",
        "*Hint*: There are many ways to do this exercise you can do your own, although here's some help. You can solve this exercise reading and parsing CSV files, structuring data into dictionaries, and using for loops to navigate the contents\n",
        "\n",
        "*Hint*: Also, the data is not clean and you will have to figure out how to deal with that data from the code, without having to modify the data source.\n",
        "\n",
        "\n",
        "\n",
        "**Question #1:** How many unique orders are in the orders.csv file?\n",
        "\n",
        "**Question #2:** What is the average number of items per order (rounded to two decimal places)?\n",
        "\n",
        "**Question #3:** What is the highest number of items per order?\n",
        "\n",
        "**Question #4:** What is the number of orders placed in October 2021?\n",
        "\n",
        "**Question #5:** Which customer spent the most amount of money in 2021?\n",
        "\n",
        "**Question #6:** Historically, what is the best month for sales?\n",
        "\n",
        "Once you get your answers, remember to go back to the course and introduce them in the multiple choice quiz"
      ]
    },
    {
      "cell_type": "code",
      "execution_count": null,
      "metadata": {
        "id": "8ipJTrfs5QVM",
        "colab": {
          "base_uri": "https://localhost:8080/"
        },
        "outputId": "d65b015e-ca8f-4bad-b82e-0b341c78cfd2"
      },
      "outputs": [
        {
          "output_type": "stream",
          "name": "stdout",
          "text": [
            "ANSWER 1: there are 16672 unique orders\n",
            "ANSWER 2: the average number of items per order is 1.76\n",
            "ANSWER 3: the highest number of items per order is 35\n",
            "ANSWER 4: the number of orders placed in October 2021 is dict_values([437])\n",
            "ANSWER 5: the CustomerID of the customer who spent the most amount of money ($7675.0) in 2021 is 5172443\n",
            "ANSWER 6: the best month for sales is January with 2876 sales.\n"
          ]
        }
      ],
      "source": [
        "# open and evaluate orders.csv\n",
        "import math\n",
        "\n",
        "datafile = \"./sample_data/orders.csv\"\n",
        "if not exists(datafile):\n",
        "  raise SystemExit(\"You should run the first code cell and download the dataset files!\")\n",
        "\n",
        "with open(datafile, 'r') as fl:\n",
        "  csvreader = csv.reader(fl, delimiter=',')\n",
        "\n",
        "  orders = {}\n",
        "  items_per_order = {}\n",
        "  orders_date = {\"2021-10\": 0}\n",
        "  orders_2021 = {}\n",
        "  best_months = {}\n",
        "\n",
        "  for order in csvreader:\n",
        "    order_clean = order[1].upper().replace(\" \", \"\")\n",
        "    items = order[1].upper().replace(\" \", \"\")\n",
        "    order_date = \"202110\" in str(order[2].replace(\"-\", \"\"))\n",
        "    order_2021 = \"2021\" in str(order[2].replace(\"-\", \"\"))\n",
        "    months = order[2][5:7]\n",
        "\n",
        "    if order_clean not in orders and order_clean != 'ORDERID':\n",
        "      orders[order_clean] = 1\n",
        "    elif order_clean in orders:\n",
        "      orders[order_clean] += 1\n",
        "\n",
        "    if items not in items_per_order and items != 'ORDERID':\n",
        "      items_per_order[items] = 1\n",
        "    elif items in items_per_order:\n",
        "      items_per_order[items] += 1\n",
        "\n",
        "    if order_date:\n",
        "      orders_date[\"2021-10\"] += 1\n",
        "\n",
        "    if order_2021:\n",
        "      if order[0] in orders_2021.keys():\n",
        "        orders_2021[order[0]] = abs(float(orders_2021[order[0]])) + abs(float(order[5]))\n",
        "      else:\n",
        "        orders_2021[order[0]] = order[5]\n",
        "    \n",
        "    if months not in best_months:\n",
        "      best_months[months] = 1\n",
        "    else:\n",
        "      best_months[months] += 1\n",
        "\n",
        "\n",
        "  best_month = max(best_months.values())\n",
        "  max_mount = sorted(orders_2021.values(), key=float)\n",
        "  key_mount = 0\n",
        "\n",
        "  for key, value in orders_2021.items():\n",
        "    if max_mount[-1] == value:\n",
        "      key_mount = key\n",
        "\n",
        "\n",
        "  min_value = min(orders.values())\n",
        "  min_keys = [k for k, v in orders.items() if v == min_value]\n",
        "  \n",
        "  # print(\"ANSWER 1: there are {} people who made a unique ({}) order\".format(len(min_keys), min_value))\n",
        "  print(\"ANSWER 1: there are {} unique orders\".format(len(orders)))\n",
        "  print(\"ANSWER 2: the average number of items per order is \" + str(round(sum(items_per_order.values()) / len(items_per_order.values()), 2)))\n",
        "  print(\"ANSWER 3: the highest number of items per order is {}\".format(max(items_per_order.values())))\n",
        "  print(\"ANSWER 4: the number of orders placed in October 2021 is {}\".format(orders_date.values()))\n",
        "  print(\"ANSWER 5: the CustomerID of the customer who spent the most amount of money (${}) in 2021 is {}\".format(max_mount[-1], key_mount))\n",
        "  print(\"ANSWER 6: the best month for sales is January with {} sales.\".format(best_month))\n",
        "\n"
      ]
    },
    {
      "cell_type": "markdown",
      "metadata": {
        "id": "ie0JW4FAk6Os"
      },
      "source": [
        "# Finished!\n",
        "\n",
        "Hope this was not too difficult and slicing and dicing the datasets was some fun. Now head on back to the course and provide the answers to the questions from this exercise."
      ]
    }
  ],
  "metadata": {
    "colab": {
      "collapsed_sections": [],
      "name": "Technical_Challenge_customers_and_orders.ipynb",
      "provenance": [],
      "include_colab_link": true
    },
    "kernelspec": {
      "display_name": "Python 3 (ipykernel)",
      "language": "python",
      "name": "python3"
    },
    "language_info": {
      "codemirror_mode": {
        "name": "ipython",
        "version": 3
      },
      "file_extension": ".py",
      "mimetype": "text/x-python",
      "name": "python",
      "nbconvert_exporter": "python",
      "pygments_lexer": "ipython3",
      "version": "3.9.9"
    }
  },
  "nbformat": 4,
  "nbformat_minor": 0
}